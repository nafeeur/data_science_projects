{
  "nbformat": 4,
  "nbformat_minor": 0,
  "metadata": {
    "colab": {
      "name": "MiniProject2(DiabetesDataSet)_Nafeeur_Rahman.ipynb",
      "provenance": [],
      "collapsed_sections": []
    },
    "kernelspec": {
      "name": "python3",
      "display_name": "Python 3"
    },
    "language_info": {
      "name": "python"
    },
    "accelerator": "GPU"
  },
  "cells": [
    {
      "cell_type": "markdown",
      "metadata": {
        "id": "W5ZCVAlhgQzX"
      },
      "source": [
        "## Objective\n",
        "Our goal is to make a classification model that can be used to predict something within the DIABETES 130-US HOSPITALS FOR YEARS 1999-2008 dataset.\n",
        "We will try to predict whether a patient is likely to be a readmit in the hospital within 30 days given certain features such as age, gender, insulin, number of hospital visits etc.\n",
        "\n",
        "To accomplish our goal we will be using two models; KNN and Decision Tree"
      ]
    },
    {
      "cell_type": "markdown",
      "metadata": {
        "id": "2UxHw8RthAB1"
      },
      "source": [
        "## Exploring the Data\n"
      ]
    },
    {
      "cell_type": "code",
      "metadata": {
        "id": "IVMPOoeFZqkY"
      },
      "source": [
        "#Importing all the necessery libraries \n",
        "import pandas as pd \n",
        "import numpy as np\n",
        "import matplotlib.pyplot as plt\n",
        "import seaborn as sns\n",
        "%matplotlib inline"
      ],
      "execution_count": null,
      "outputs": []
    },
    {
      "cell_type": "code",
      "metadata": {
        "id": "2jj7tRBSpkvK",
        "colab": {
          "base_uri": "https://localhost:8080/"
        },
        "outputId": "eb193a46-ff12-49c9-89ef-56ecd90a7021"
      },
      "source": [
        "#loading the diabetic data set without missing values\n",
        "df = pd.read_csv('https://raw.githubusercontent.com/nafeeur/cuny_data_analytics/main/Python/Unit4/diabetic_data.csv',na_values=['?'])"
      ],
      "execution_count": null,
      "outputs": [
        {
          "output_type": "stream",
          "text": [
            "/usr/local/lib/python3.7/dist-packages/IPython/core/interactiveshell.py:2718: DtypeWarning: Columns (10) have mixed types.Specify dtype option on import or set low_memory=False.\n",
            "  interactivity=interactivity, compiler=compiler, result=result)\n"
          ],
          "name": "stderr"
        }
      ]
    },
    {
      "cell_type": "code",
      "metadata": {
        "colab": {
          "base_uri": "https://localhost:8080/"
        },
        "id": "_YVR9VM0pvkQ",
        "outputId": "2917a149-dbb8-45fc-b645-52d33fb6edb1"
      },
      "source": [
        "len(df) # The amount of rows the data contains"
      ],
      "execution_count": null,
      "outputs": [
        {
          "output_type": "execute_result",
          "data": {
            "text/plain": [
              "101766"
            ]
          },
          "metadata": {
            "tags": []
          },
          "execution_count": 47
        }
      ]
    },
    {
      "cell_type": "code",
      "metadata": {
        "colab": {
          "base_uri": "https://localhost:8080/",
          "height": 261
        },
        "id": "DYmPmsU1aTQW",
        "outputId": "93fb5e8b-e95b-40e5-ead9-fc972e343b70"
      },
      "source": [
        "df.head(5) #The first 5 rows of the data set"
      ],
      "execution_count": null,
      "outputs": [
        {
          "output_type": "execute_result",
          "data": {
            "text/html": [
              "<div>\n",
              "<style scoped>\n",
              "    .dataframe tbody tr th:only-of-type {\n",
              "        vertical-align: middle;\n",
              "    }\n",
              "\n",
              "    .dataframe tbody tr th {\n",
              "        vertical-align: top;\n",
              "    }\n",
              "\n",
              "    .dataframe thead th {\n",
              "        text-align: right;\n",
              "    }\n",
              "</style>\n",
              "<table border=\"1\" class=\"dataframe\">\n",
              "  <thead>\n",
              "    <tr style=\"text-align: right;\">\n",
              "      <th></th>\n",
              "      <th>encounter_id</th>\n",
              "      <th>patient_nbr</th>\n",
              "      <th>race</th>\n",
              "      <th>gender</th>\n",
              "      <th>age</th>\n",
              "      <th>weight</th>\n",
              "      <th>admission_type_id</th>\n",
              "      <th>discharge_disposition_id</th>\n",
              "      <th>admission_source_id</th>\n",
              "      <th>time_in_hospital</th>\n",
              "      <th>payer_code</th>\n",
              "      <th>medical_specialty</th>\n",
              "      <th>num_lab_procedures</th>\n",
              "      <th>num_procedures</th>\n",
              "      <th>num_medications</th>\n",
              "      <th>number_outpatient</th>\n",
              "      <th>number_emergency</th>\n",
              "      <th>number_inpatient</th>\n",
              "      <th>diag_1</th>\n",
              "      <th>diag_2</th>\n",
              "      <th>diag_3</th>\n",
              "      <th>number_diagnoses</th>\n",
              "      <th>max_glu_serum</th>\n",
              "      <th>A1Cresult</th>\n",
              "      <th>metformin</th>\n",
              "      <th>repaglinide</th>\n",
              "      <th>nateglinide</th>\n",
              "      <th>chlorpropamide</th>\n",
              "      <th>glimepiride</th>\n",
              "      <th>acetohexamide</th>\n",
              "      <th>glipizide</th>\n",
              "      <th>glyburide</th>\n",
              "      <th>tolbutamide</th>\n",
              "      <th>pioglitazone</th>\n",
              "      <th>rosiglitazone</th>\n",
              "      <th>acarbose</th>\n",
              "      <th>miglitol</th>\n",
              "      <th>troglitazone</th>\n",
              "      <th>tolazamide</th>\n",
              "      <th>examide</th>\n",
              "      <th>citoglipton</th>\n",
              "      <th>insulin</th>\n",
              "      <th>glyburide-metformin</th>\n",
              "      <th>glipizide-metformin</th>\n",
              "      <th>glimepiride-pioglitazone</th>\n",
              "      <th>metformin-rosiglitazone</th>\n",
              "      <th>metformin-pioglitazone</th>\n",
              "      <th>change</th>\n",
              "      <th>diabetesMed</th>\n",
              "      <th>readmitted</th>\n",
              "    </tr>\n",
              "  </thead>\n",
              "  <tbody>\n",
              "    <tr>\n",
              "      <th>0</th>\n",
              "      <td>2278392</td>\n",
              "      <td>8222157</td>\n",
              "      <td>Caucasian</td>\n",
              "      <td>Female</td>\n",
              "      <td>[0-10)</td>\n",
              "      <td>NaN</td>\n",
              "      <td>6</td>\n",
              "      <td>25</td>\n",
              "      <td>1</td>\n",
              "      <td>1</td>\n",
              "      <td>NaN</td>\n",
              "      <td>Pediatrics-Endocrinology</td>\n",
              "      <td>41</td>\n",
              "      <td>0</td>\n",
              "      <td>1</td>\n",
              "      <td>0</td>\n",
              "      <td>0</td>\n",
              "      <td>0</td>\n",
              "      <td>250.83</td>\n",
              "      <td>NaN</td>\n",
              "      <td>NaN</td>\n",
              "      <td>1</td>\n",
              "      <td>None</td>\n",
              "      <td>None</td>\n",
              "      <td>No</td>\n",
              "      <td>No</td>\n",
              "      <td>No</td>\n",
              "      <td>No</td>\n",
              "      <td>No</td>\n",
              "      <td>No</td>\n",
              "      <td>No</td>\n",
              "      <td>No</td>\n",
              "      <td>No</td>\n",
              "      <td>No</td>\n",
              "      <td>No</td>\n",
              "      <td>No</td>\n",
              "      <td>No</td>\n",
              "      <td>No</td>\n",
              "      <td>No</td>\n",
              "      <td>No</td>\n",
              "      <td>No</td>\n",
              "      <td>No</td>\n",
              "      <td>No</td>\n",
              "      <td>No</td>\n",
              "      <td>No</td>\n",
              "      <td>No</td>\n",
              "      <td>No</td>\n",
              "      <td>No</td>\n",
              "      <td>No</td>\n",
              "      <td>NO</td>\n",
              "    </tr>\n",
              "    <tr>\n",
              "      <th>1</th>\n",
              "      <td>149190</td>\n",
              "      <td>55629189</td>\n",
              "      <td>Caucasian</td>\n",
              "      <td>Female</td>\n",
              "      <td>[10-20)</td>\n",
              "      <td>NaN</td>\n",
              "      <td>1</td>\n",
              "      <td>1</td>\n",
              "      <td>7</td>\n",
              "      <td>3</td>\n",
              "      <td>NaN</td>\n",
              "      <td>NaN</td>\n",
              "      <td>59</td>\n",
              "      <td>0</td>\n",
              "      <td>18</td>\n",
              "      <td>0</td>\n",
              "      <td>0</td>\n",
              "      <td>0</td>\n",
              "      <td>276</td>\n",
              "      <td>250.01</td>\n",
              "      <td>255</td>\n",
              "      <td>9</td>\n",
              "      <td>None</td>\n",
              "      <td>None</td>\n",
              "      <td>No</td>\n",
              "      <td>No</td>\n",
              "      <td>No</td>\n",
              "      <td>No</td>\n",
              "      <td>No</td>\n",
              "      <td>No</td>\n",
              "      <td>No</td>\n",
              "      <td>No</td>\n",
              "      <td>No</td>\n",
              "      <td>No</td>\n",
              "      <td>No</td>\n",
              "      <td>No</td>\n",
              "      <td>No</td>\n",
              "      <td>No</td>\n",
              "      <td>No</td>\n",
              "      <td>No</td>\n",
              "      <td>No</td>\n",
              "      <td>Up</td>\n",
              "      <td>No</td>\n",
              "      <td>No</td>\n",
              "      <td>No</td>\n",
              "      <td>No</td>\n",
              "      <td>No</td>\n",
              "      <td>Ch</td>\n",
              "      <td>Yes</td>\n",
              "      <td>&gt;30</td>\n",
              "    </tr>\n",
              "    <tr>\n",
              "      <th>2</th>\n",
              "      <td>64410</td>\n",
              "      <td>86047875</td>\n",
              "      <td>AfricanAmerican</td>\n",
              "      <td>Female</td>\n",
              "      <td>[20-30)</td>\n",
              "      <td>NaN</td>\n",
              "      <td>1</td>\n",
              "      <td>1</td>\n",
              "      <td>7</td>\n",
              "      <td>2</td>\n",
              "      <td>NaN</td>\n",
              "      <td>NaN</td>\n",
              "      <td>11</td>\n",
              "      <td>5</td>\n",
              "      <td>13</td>\n",
              "      <td>2</td>\n",
              "      <td>0</td>\n",
              "      <td>1</td>\n",
              "      <td>648</td>\n",
              "      <td>250</td>\n",
              "      <td>V27</td>\n",
              "      <td>6</td>\n",
              "      <td>None</td>\n",
              "      <td>None</td>\n",
              "      <td>No</td>\n",
              "      <td>No</td>\n",
              "      <td>No</td>\n",
              "      <td>No</td>\n",
              "      <td>No</td>\n",
              "      <td>No</td>\n",
              "      <td>Steady</td>\n",
              "      <td>No</td>\n",
              "      <td>No</td>\n",
              "      <td>No</td>\n",
              "      <td>No</td>\n",
              "      <td>No</td>\n",
              "      <td>No</td>\n",
              "      <td>No</td>\n",
              "      <td>No</td>\n",
              "      <td>No</td>\n",
              "      <td>No</td>\n",
              "      <td>No</td>\n",
              "      <td>No</td>\n",
              "      <td>No</td>\n",
              "      <td>No</td>\n",
              "      <td>No</td>\n",
              "      <td>No</td>\n",
              "      <td>No</td>\n",
              "      <td>Yes</td>\n",
              "      <td>NO</td>\n",
              "    </tr>\n",
              "    <tr>\n",
              "      <th>3</th>\n",
              "      <td>500364</td>\n",
              "      <td>82442376</td>\n",
              "      <td>Caucasian</td>\n",
              "      <td>Male</td>\n",
              "      <td>[30-40)</td>\n",
              "      <td>NaN</td>\n",
              "      <td>1</td>\n",
              "      <td>1</td>\n",
              "      <td>7</td>\n",
              "      <td>2</td>\n",
              "      <td>NaN</td>\n",
              "      <td>NaN</td>\n",
              "      <td>44</td>\n",
              "      <td>1</td>\n",
              "      <td>16</td>\n",
              "      <td>0</td>\n",
              "      <td>0</td>\n",
              "      <td>0</td>\n",
              "      <td>8</td>\n",
              "      <td>250.43</td>\n",
              "      <td>403</td>\n",
              "      <td>7</td>\n",
              "      <td>None</td>\n",
              "      <td>None</td>\n",
              "      <td>No</td>\n",
              "      <td>No</td>\n",
              "      <td>No</td>\n",
              "      <td>No</td>\n",
              "      <td>No</td>\n",
              "      <td>No</td>\n",
              "      <td>No</td>\n",
              "      <td>No</td>\n",
              "      <td>No</td>\n",
              "      <td>No</td>\n",
              "      <td>No</td>\n",
              "      <td>No</td>\n",
              "      <td>No</td>\n",
              "      <td>No</td>\n",
              "      <td>No</td>\n",
              "      <td>No</td>\n",
              "      <td>No</td>\n",
              "      <td>Up</td>\n",
              "      <td>No</td>\n",
              "      <td>No</td>\n",
              "      <td>No</td>\n",
              "      <td>No</td>\n",
              "      <td>No</td>\n",
              "      <td>Ch</td>\n",
              "      <td>Yes</td>\n",
              "      <td>NO</td>\n",
              "    </tr>\n",
              "    <tr>\n",
              "      <th>4</th>\n",
              "      <td>16680</td>\n",
              "      <td>42519267</td>\n",
              "      <td>Caucasian</td>\n",
              "      <td>Male</td>\n",
              "      <td>[40-50)</td>\n",
              "      <td>NaN</td>\n",
              "      <td>1</td>\n",
              "      <td>1</td>\n",
              "      <td>7</td>\n",
              "      <td>1</td>\n",
              "      <td>NaN</td>\n",
              "      <td>NaN</td>\n",
              "      <td>51</td>\n",
              "      <td>0</td>\n",
              "      <td>8</td>\n",
              "      <td>0</td>\n",
              "      <td>0</td>\n",
              "      <td>0</td>\n",
              "      <td>197</td>\n",
              "      <td>157</td>\n",
              "      <td>250</td>\n",
              "      <td>5</td>\n",
              "      <td>None</td>\n",
              "      <td>None</td>\n",
              "      <td>No</td>\n",
              "      <td>No</td>\n",
              "      <td>No</td>\n",
              "      <td>No</td>\n",
              "      <td>No</td>\n",
              "      <td>No</td>\n",
              "      <td>Steady</td>\n",
              "      <td>No</td>\n",
              "      <td>No</td>\n",
              "      <td>No</td>\n",
              "      <td>No</td>\n",
              "      <td>No</td>\n",
              "      <td>No</td>\n",
              "      <td>No</td>\n",
              "      <td>No</td>\n",
              "      <td>No</td>\n",
              "      <td>No</td>\n",
              "      <td>Steady</td>\n",
              "      <td>No</td>\n",
              "      <td>No</td>\n",
              "      <td>No</td>\n",
              "      <td>No</td>\n",
              "      <td>No</td>\n",
              "      <td>Ch</td>\n",
              "      <td>Yes</td>\n",
              "      <td>NO</td>\n",
              "    </tr>\n",
              "  </tbody>\n",
              "</table>\n",
              "</div>"
            ],
            "text/plain": [
              "   encounter_id  patient_nbr             race  ... change diabetesMed readmitted\n",
              "0       2278392      8222157        Caucasian  ...     No          No         NO\n",
              "1        149190     55629189        Caucasian  ...     Ch         Yes        >30\n",
              "2         64410     86047875  AfricanAmerican  ...     No         Yes         NO\n",
              "3        500364     82442376        Caucasian  ...     Ch         Yes         NO\n",
              "4         16680     42519267        Caucasian  ...     Ch         Yes         NO\n",
              "\n",
              "[5 rows x 50 columns]"
            ]
          },
          "metadata": {
            "tags": []
          },
          "execution_count": 48
        }
      ]
    },
    {
      "cell_type": "code",
      "metadata": {
        "colab": {
          "base_uri": "https://localhost:8080/",
          "height": 320
        },
        "id": "AbhRg4X1aVse",
        "outputId": "35b24a52-4097-4f62-e4af-6efcfac697d6"
      },
      "source": [
        "#An statistical overview of the dataset\n",
        "df.describe()"
      ],
      "execution_count": null,
      "outputs": [
        {
          "output_type": "execute_result",
          "data": {
            "text/html": [
              "<div>\n",
              "<style scoped>\n",
              "    .dataframe tbody tr th:only-of-type {\n",
              "        vertical-align: middle;\n",
              "    }\n",
              "\n",
              "    .dataframe tbody tr th {\n",
              "        vertical-align: top;\n",
              "    }\n",
              "\n",
              "    .dataframe thead th {\n",
              "        text-align: right;\n",
              "    }\n",
              "</style>\n",
              "<table border=\"1\" class=\"dataframe\">\n",
              "  <thead>\n",
              "    <tr style=\"text-align: right;\">\n",
              "      <th></th>\n",
              "      <th>encounter_id</th>\n",
              "      <th>patient_nbr</th>\n",
              "      <th>admission_type_id</th>\n",
              "      <th>discharge_disposition_id</th>\n",
              "      <th>admission_source_id</th>\n",
              "      <th>time_in_hospital</th>\n",
              "      <th>num_lab_procedures</th>\n",
              "      <th>num_procedures</th>\n",
              "      <th>num_medications</th>\n",
              "      <th>number_outpatient</th>\n",
              "      <th>number_emergency</th>\n",
              "      <th>number_inpatient</th>\n",
              "      <th>number_diagnoses</th>\n",
              "    </tr>\n",
              "  </thead>\n",
              "  <tbody>\n",
              "    <tr>\n",
              "      <th>count</th>\n",
              "      <td>1.017660e+05</td>\n",
              "      <td>1.017660e+05</td>\n",
              "      <td>101766.000000</td>\n",
              "      <td>101766.000000</td>\n",
              "      <td>101766.000000</td>\n",
              "      <td>101766.000000</td>\n",
              "      <td>101766.000000</td>\n",
              "      <td>101766.000000</td>\n",
              "      <td>101766.000000</td>\n",
              "      <td>101766.000000</td>\n",
              "      <td>101766.000000</td>\n",
              "      <td>101766.000000</td>\n",
              "      <td>101766.000000</td>\n",
              "    </tr>\n",
              "    <tr>\n",
              "      <th>mean</th>\n",
              "      <td>1.652016e+08</td>\n",
              "      <td>5.433040e+07</td>\n",
              "      <td>2.024006</td>\n",
              "      <td>3.715642</td>\n",
              "      <td>5.754437</td>\n",
              "      <td>4.395987</td>\n",
              "      <td>43.095641</td>\n",
              "      <td>1.339730</td>\n",
              "      <td>16.021844</td>\n",
              "      <td>0.369357</td>\n",
              "      <td>0.197836</td>\n",
              "      <td>0.635566</td>\n",
              "      <td>7.422607</td>\n",
              "    </tr>\n",
              "    <tr>\n",
              "      <th>std</th>\n",
              "      <td>1.026403e+08</td>\n",
              "      <td>3.869636e+07</td>\n",
              "      <td>1.445403</td>\n",
              "      <td>5.280166</td>\n",
              "      <td>4.064081</td>\n",
              "      <td>2.985108</td>\n",
              "      <td>19.674362</td>\n",
              "      <td>1.705807</td>\n",
              "      <td>8.127566</td>\n",
              "      <td>1.267265</td>\n",
              "      <td>0.930472</td>\n",
              "      <td>1.262863</td>\n",
              "      <td>1.933600</td>\n",
              "    </tr>\n",
              "    <tr>\n",
              "      <th>min</th>\n",
              "      <td>1.252200e+04</td>\n",
              "      <td>1.350000e+02</td>\n",
              "      <td>1.000000</td>\n",
              "      <td>1.000000</td>\n",
              "      <td>1.000000</td>\n",
              "      <td>1.000000</td>\n",
              "      <td>1.000000</td>\n",
              "      <td>0.000000</td>\n",
              "      <td>1.000000</td>\n",
              "      <td>0.000000</td>\n",
              "      <td>0.000000</td>\n",
              "      <td>0.000000</td>\n",
              "      <td>1.000000</td>\n",
              "    </tr>\n",
              "    <tr>\n",
              "      <th>25%</th>\n",
              "      <td>8.496119e+07</td>\n",
              "      <td>2.341322e+07</td>\n",
              "      <td>1.000000</td>\n",
              "      <td>1.000000</td>\n",
              "      <td>1.000000</td>\n",
              "      <td>2.000000</td>\n",
              "      <td>31.000000</td>\n",
              "      <td>0.000000</td>\n",
              "      <td>10.000000</td>\n",
              "      <td>0.000000</td>\n",
              "      <td>0.000000</td>\n",
              "      <td>0.000000</td>\n",
              "      <td>6.000000</td>\n",
              "    </tr>\n",
              "    <tr>\n",
              "      <th>50%</th>\n",
              "      <td>1.523890e+08</td>\n",
              "      <td>4.550514e+07</td>\n",
              "      <td>1.000000</td>\n",
              "      <td>1.000000</td>\n",
              "      <td>7.000000</td>\n",
              "      <td>4.000000</td>\n",
              "      <td>44.000000</td>\n",
              "      <td>1.000000</td>\n",
              "      <td>15.000000</td>\n",
              "      <td>0.000000</td>\n",
              "      <td>0.000000</td>\n",
              "      <td>0.000000</td>\n",
              "      <td>8.000000</td>\n",
              "    </tr>\n",
              "    <tr>\n",
              "      <th>75%</th>\n",
              "      <td>2.302709e+08</td>\n",
              "      <td>8.754595e+07</td>\n",
              "      <td>3.000000</td>\n",
              "      <td>4.000000</td>\n",
              "      <td>7.000000</td>\n",
              "      <td>6.000000</td>\n",
              "      <td>57.000000</td>\n",
              "      <td>2.000000</td>\n",
              "      <td>20.000000</td>\n",
              "      <td>0.000000</td>\n",
              "      <td>0.000000</td>\n",
              "      <td>1.000000</td>\n",
              "      <td>9.000000</td>\n",
              "    </tr>\n",
              "    <tr>\n",
              "      <th>max</th>\n",
              "      <td>4.438672e+08</td>\n",
              "      <td>1.895026e+08</td>\n",
              "      <td>8.000000</td>\n",
              "      <td>28.000000</td>\n",
              "      <td>25.000000</td>\n",
              "      <td>14.000000</td>\n",
              "      <td>132.000000</td>\n",
              "      <td>6.000000</td>\n",
              "      <td>81.000000</td>\n",
              "      <td>42.000000</td>\n",
              "      <td>76.000000</td>\n",
              "      <td>21.000000</td>\n",
              "      <td>16.000000</td>\n",
              "    </tr>\n",
              "  </tbody>\n",
              "</table>\n",
              "</div>"
            ],
            "text/plain": [
              "       encounter_id   patient_nbr  ...  number_inpatient  number_diagnoses\n",
              "count  1.017660e+05  1.017660e+05  ...     101766.000000     101766.000000\n",
              "mean   1.652016e+08  5.433040e+07  ...          0.635566          7.422607\n",
              "std    1.026403e+08  3.869636e+07  ...          1.262863          1.933600\n",
              "min    1.252200e+04  1.350000e+02  ...          0.000000          1.000000\n",
              "25%    8.496119e+07  2.341322e+07  ...          0.000000          6.000000\n",
              "50%    1.523890e+08  4.550514e+07  ...          0.000000          8.000000\n",
              "75%    2.302709e+08  8.754595e+07  ...          1.000000          9.000000\n",
              "max    4.438672e+08  1.895026e+08  ...         21.000000         16.000000\n",
              "\n",
              "[8 rows x 13 columns]"
            ]
          },
          "metadata": {
            "tags": []
          },
          "execution_count": 49
        }
      ]
    },
    {
      "cell_type": "code",
      "metadata": {
        "colab": {
          "base_uri": "https://localhost:8080/"
        },
        "id": "Y1_Y9H9Mp9fy",
        "outputId": "a114e649-b034-40f2-a60e-a0c2c19266a2"
      },
      "source": [
        "df.columns # A better view of the Columns "
      ],
      "execution_count": null,
      "outputs": [
        {
          "output_type": "execute_result",
          "data": {
            "text/plain": [
              "Index(['encounter_id', 'patient_nbr', 'race', 'gender', 'age', 'weight',\n",
              "       'admission_type_id', 'discharge_disposition_id', 'admission_source_id',\n",
              "       'time_in_hospital', 'payer_code', 'medical_specialty',\n",
              "       'num_lab_procedures', 'num_procedures', 'num_medications',\n",
              "       'number_outpatient', 'number_emergency', 'number_inpatient', 'diag_1',\n",
              "       'diag_2', 'diag_3', 'number_diagnoses', 'max_glu_serum', 'A1Cresult',\n",
              "       'metformin', 'repaglinide', 'nateglinide', 'chlorpropamide',\n",
              "       'glimepiride', 'acetohexamide', 'glipizide', 'glyburide', 'tolbutamide',\n",
              "       'pioglitazone', 'rosiglitazone', 'acarbose', 'miglitol', 'troglitazone',\n",
              "       'tolazamide', 'examide', 'citoglipton', 'insulin',\n",
              "       'glyburide-metformin', 'glipizide-metformin',\n",
              "       'glimepiride-pioglitazone', 'metformin-rosiglitazone',\n",
              "       'metformin-pioglitazone', 'change', 'diabetesMed', 'readmitted'],\n",
              "      dtype='object')"
            ]
          },
          "metadata": {
            "tags": []
          },
          "execution_count": 50
        }
      ]
    },
    {
      "cell_type": "code",
      "metadata": {
        "colab": {
          "base_uri": "https://localhost:8080/"
        },
        "id": "5vOVEpVLqk5G",
        "outputId": "1c816376-8fc2-4237-fba2-25f67fb248cd"
      },
      "source": [
        "df.isna().sum() # Looking for the missing data in the set"
      ],
      "execution_count": null,
      "outputs": [
        {
          "output_type": "execute_result",
          "data": {
            "text/plain": [
              "encounter_id                    0\n",
              "patient_nbr                     0\n",
              "race                         2273\n",
              "gender                          0\n",
              "age                             0\n",
              "weight                      98569\n",
              "admission_type_id               0\n",
              "discharge_disposition_id        0\n",
              "admission_source_id             0\n",
              "time_in_hospital                0\n",
              "payer_code                  40256\n",
              "medical_specialty           49949\n",
              "num_lab_procedures              0\n",
              "num_procedures                  0\n",
              "num_medications                 0\n",
              "number_outpatient               0\n",
              "number_emergency                0\n",
              "number_inpatient                0\n",
              "diag_1                         21\n",
              "diag_2                        358\n",
              "diag_3                       1423\n",
              "number_diagnoses                0\n",
              "max_glu_serum                   0\n",
              "A1Cresult                       0\n",
              "metformin                       0\n",
              "repaglinide                     0\n",
              "nateglinide                     0\n",
              "chlorpropamide                  0\n",
              "glimepiride                     0\n",
              "acetohexamide                   0\n",
              "glipizide                       0\n",
              "glyburide                       0\n",
              "tolbutamide                     0\n",
              "pioglitazone                    0\n",
              "rosiglitazone                   0\n",
              "acarbose                        0\n",
              "miglitol                        0\n",
              "troglitazone                    0\n",
              "tolazamide                      0\n",
              "examide                         0\n",
              "citoglipton                     0\n",
              "insulin                         0\n",
              "glyburide-metformin             0\n",
              "glipizide-metformin             0\n",
              "glimepiride-pioglitazone        0\n",
              "metformin-rosiglitazone         0\n",
              "metformin-pioglitazone          0\n",
              "change                          0\n",
              "diabetesMed                     0\n",
              "readmitted                      0\n",
              "dtype: int64"
            ]
          },
          "metadata": {
            "tags": []
          },
          "execution_count": 51
        }
      ]
    },
    {
      "cell_type": "code",
      "metadata": {
        "id": "5uPEROrGq3h4",
        "colab": {
          "base_uri": "https://localhost:8080/",
          "height": 629
        },
        "outputId": "e8301d0b-386a-429e-c280-b16c05a264c1"
      },
      "source": [
        "# Visualizing the missing data set\n",
        "plt.figure(figsize=(15, 8))\n",
        "sns.heatmap(df.isnull(), yticklabels=False, cbar=False, cmap='Purples_r')\n",
        "plt.title('Missing Data')"
      ],
      "execution_count": null,
      "outputs": [
        {
          "output_type": "execute_result",
          "data": {
            "text/plain": [
              "Text(0.5, 1.0, 'Missing Data')"
            ]
          },
          "metadata": {
            "tags": []
          },
          "execution_count": 52
        },
        {
          "output_type": "display_data",
          "data": {
            "image/png": "[encoded data removed]",
            "text/plain": [
              "<Figure size 1080x576 with 1 Axes>"
            ]
          },
          "metadata": {
            "tags": [],
            "needs_background": "light"
          }
        }
      ]
    },
    {
      "cell_type": "code",
      "metadata": {
        "id": "9gb7zTnHrA_e",
        "colab": {
          "base_uri": "https://localhost:8080/"
        },
        "outputId": "e0f889c0-03fb-42ef-a1e2-69fa1a871ed9"
      },
      "source": [
        "# The percent of data that is missing \n",
        "100*(df.isnull().sum()/len(df))\n",
        "def missing_values_percent(df):\n",
        "    nan_percent=100*(df.isnull().sum()/len(df))\n",
        "    nan_percent=nan_percent[nan_percent>0].sort_values()\n",
        "    return(nan_percent)\n",
        "nan_percent=missing_values_percent(df)\n",
        "nan_percent"
      ],
      "execution_count": null,
      "outputs": [
        {
          "output_type": "execute_result",
          "data": {
            "text/plain": [
              "diag_1                0.020636\n",
              "diag_2                0.351787\n",
              "diag_3                1.398306\n",
              "race                  2.233555\n",
              "payer_code           39.557416\n",
              "medical_specialty    49.082208\n",
              "weight               96.858479\n",
              "dtype: float64"
            ]
          },
          "metadata": {
            "tags": []
          },
          "execution_count": 53
        }
      ]
    },
    {
      "cell_type": "markdown",
      "metadata": {
        "id": "WitmM_G-K9Fr"
      },
      "source": [
        "## Further Analyzing and Cleaning the Data"
      ]
    },
    {
      "cell_type": "code",
      "metadata": {
        "id": "nld_bGMVRHbV"
      },
      "source": [
        "# From the data we can see that \"Payer_code\", \"Medical_Speciality\" and \"Weight\" are missing a significant amount of data. So we will drop those columns.\n",
        "df.drop(['payer_code','weight','medical_specialty'],axis=1,inplace=True)\n"
      ],
      "execution_count": null,
      "outputs": []
    },
    {
      "cell_type": "code",
      "metadata": {
        "colab": {
          "base_uri": "https://localhost:8080/"
        },
        "id": "_lEVeBU7YPf4",
        "outputId": "fbeadfe4-4e43-4bdc-df85-8774970276e4"
      },
      "source": [
        "# Now we are going to analize rest of the columns by looking for the unique values in each columns\n",
        "\n",
        "for i in df.columns:\n",
        "  print(i+\": \",df[i].unique())\n"
      ],
      "execution_count": null,
      "outputs": [
        {
          "output_type": "stream",
          "text": [
            "encounter_id:  [  2278392    149190     64410 ... 443854148 443857166 443867222]\n",
            "patient_nbr:  [  8222157  55629189  86047875 ... 140199494 120975314 175429310]\n",
            "race:  ['Caucasian' 'AfricanAmerican' nan 'Other' 'Asian' 'Hispanic']\n",
            "gender:  ['Female' 'Male' 'Unknown/Invalid']\n",
            "age:  ['[0-10)' '[10-20)' '[20-30)' '[30-40)' '[40-50)' '[50-60)' '[60-70)'\n",
            " '[70-80)' '[80-90)' '[90-100)']\n",
            "admission_type_id:  [6 1 2 3 4 5 8 7]\n",
            "discharge_disposition_id:  [25  1  3  6  2  5 11  7 10  4 14 18  8 13 12 16 17 22 23  9 20 15 24 28\n",
            " 19 27]\n",
            "admission_source_id:  [ 1  7  2  4  5  6 20  3 17  8  9 14 10 22 11 25 13]\n",
            "time_in_hospital:  [ 1  3  2  4  5 13 12  9  7 10  6 11  8 14]\n",
            "num_lab_procedures:  [ 41  59  11  44  51  31  70  73  68  33  47  62  60  55  49  75  45  29\n",
            "  35  42  66  36  19  64  25  53  52  87  27  37  46  28  48  72  10   2\n",
            "  65  67  40  54  58  57  43  32  83  34  39  69  38  56  22  96  78  61\n",
            "  88  50   1  18  82   9  63  24  71  77  81  76  90  93   3 103  13  80\n",
            "  85  16  15  12  30  23  17  21  79  26   5  95  97  84  14  74 105  86\n",
            "  98  20   6  94   8 102 100   7  89  91  92   4 101  99 114 113 111 129\n",
            " 107 108 106 104 109 120 132 121 126 118]\n",
            "num_procedures:  [0 5 1 6 2 3 4]\n",
            "num_medications:  [ 1 18 13 16  8 21 12 28 17 11 15 31  2 23 19  7 20 14 10 22  9 27 25  4\n",
            " 32  6 30 26 24 33  5 39  3 29 61 40 46 41 36 34 35 50 43 42 37 51 38 45\n",
            " 54 52 49 62 55 47 44 53 48 57 59 56 60 63 58 70 67 64 69 65 68 66 81 79\n",
            " 75 72 74]\n",
            "number_outpatient:  [ 0  2  1  5  7  9  3  8  4 12 11  6 20 15 10 13 14 16 21 35 17 29 36 18\n",
            " 19 27 22 24 42 39 34 26 33 25 23 28 37 38 40]\n",
            "number_emergency:  [ 0  1  2  4  3  9  5  7  6  8 22 25 10 13 42 16 11 28 15 14 18 12 21 20\n",
            " 19 46 76 37 64 63 54 24 29]\n",
            "number_inpatient:  [ 0  1  2  3  6  5  4  7  8  9 15 10 11 14 12 13 17 16 21 18 19]\n",
            "diag_1:  ['250.83' '276' '648' '8' '197' '414' '428' '398' '434' '250.7' '157'\n",
            " '518' '999' '410' '682' '402' '737' '572' 'V57' '189' '786' '427' '996'\n",
            " '277' '584' '462' '473' '411' '174' '486' '998' '511' '432' '626' '295'\n",
            " '196' '250.6' '618' '182' '845' '423' '808' '250.4' '722' '403' '250.11'\n",
            " '784' '707' '440' '151' '715' '997' '198' '564' '812' '38' '590' '556'\n",
            " '578' '250.32' '433' 'V58' '569' '185' '536' '255' '250.13' '599' '558'\n",
            " '574' '491' '560' '244' '250.03' '577' '730' '188' '824' '250.8' '332'\n",
            " '562' '291' '296' '510' '401' '263' '438' '70' '250.02' '493' '642' '625'\n",
            " '571' '738' '593' '250.42' '807' '456' '446' '575' '250.41' '820' '515'\n",
            " '780' '250.22' '995' '235' '250.82' '721' '787' '162' '724' '282' '514'\n",
            " 'V55' '281' '250.33' '530' '466' '435' '250.12' 'V53' '789' '566' '822'\n",
            " '191' '557' '733' '455' '711' '482' '202' '280' '553' '225' '154' '441'\n",
            " '250.81' '349' nan '962' '592' '507' '386' '156' '200' '728' '348' '459'\n",
            " '426' '388' '607' '337' '82' '531' '596' '288' '656' '573' '492' '220'\n",
            " '516' '210' '922' '286' '885' '958' '661' '969' '250.93' '227' '112'\n",
            " '404' '823' '532' '416' '346' '535' '453' '250' '595' '211' '303'\n",
            " '250.01' '852' '218' '782' '540' '457' '285' '431' '340' '550' '54' '351'\n",
            " '601' '723' '555' '153' '443' '380' '204' '424' '241' '358' '694' '331'\n",
            " '345' '681' '447' '290' '158' '579' '436' '335' '309' '654' '805' '799'\n",
            " '292' '183' '78' '851' '458' '586' '311' '892' '305' '293' '415' '591'\n",
            " '794' '803' '79' '655' '429' '278' '658' '598' '729' '585' '444' '604'\n",
            " '727' '214' '552' '284' '680' '708' '41' '644' '481' '821' '413' '437'\n",
            " '968' '756' '632' '359' '275' '512' '781' '420' '368' '522' '294' '825'\n",
            " '135' '304' '320' '250.31' '669' '868' '496' '250.43' '826' '567' '3'\n",
            " '203' '53' '251' '565' '161' '495' '49' '250.1' '297' '663' '576' '355'\n",
            " '850' '287' '250.2' '611' '840' '350' '726' '537' '620' '180' '366' '783'\n",
            " '11' '751' '716' '250.3' '199' '464' '580' '836' '664' '283' '813' '966'\n",
            " '289' '965' '184' '480' '608' '333' '972' '212' '117' '788' '924' '959'\n",
            " '621' '238' '785' '714' '942' '250.23' '710' '47' '933' '508' '478' '844'\n",
            " '7' '736' '233' '42' '250.5' '397' '395' '201' '421' '253' '250.92' '600'\n",
            " '494' '977' '39' '659' '312' '614' '647' '652' '646' '274' '861' '425'\n",
            " '527' '451' '485' '217' '250.53' '442' '970' '193' '160' '322' '581'\n",
            " '475' '623' '374' '582' '568' '465' '801' '237' '376' '150' '461' '913'\n",
            " '226' '617' '987' '641' '298' '790' '336' '362' '228' '513' '383' '746'\n",
            " '353' '911' '506' '873' '155' '860' '534' '802' '141' 'V45' '396' '310'\n",
            " '341' '242' '719' '239' '533' '616' '519' '301' 'V66' '5' '989' '230'\n",
            " '385' '300' '853' '871' '570' '848' '463' '9' '934' '250.21' '236' '361'\n",
            " '594' '501' '810' '643' '430' '528' '205' '791' '983' '992' '490' '172'\n",
            " '171' '622' '306' '863' '864' '474' '660' '759' '356' '634' '967' '551'\n",
            " '695' '187' '732' '747' '323' '308' '370' '252' '152' '846' '164' '365'\n",
            " '718' '48' '266' '720' '94' '344' '797' '170' '878' '904' 'V56' '882'\n",
            " '843' '709' '973' '454' '686' '939' '487' '229' '991' '483' '357' '692'\n",
            " '796' '693' '935' '936' '800' '920' 'V26' '261' '307' '262' '250.9' '831'\n",
            " '145' '223' 'V71' '839' '685' 'V54' '35' '34' '179' '964' '136' '324'\n",
            " '389' '815' '334' '143' '526' '588' '192' 'V67' '394' '917' '88' '219'\n",
            " '325' '792' '717' '994' '990' '793' '207' '637' '195' '373' '847' '827'\n",
            " '31' '891' '814' 'V60' '703' '865' '352' '627' '378' '342' '886' '369'\n",
            " '745' '705' '816' '541' '986' '610' '633' '640' '753' '173' '835' '379'\n",
            " '445' '272' '382' '945' '619' '881' '250.52' '866' '405' '916' '215'\n",
            " '893' '75' '671' '928' '906' '897' '725' '867' '115' '890' '734' '521'\n",
            " '674' '470' '834' '146' '696' '524' '980' '691' '384' '142' '879'\n",
            " '250.51' '246' '208' '448' '955' '653' '149' '245' '735' '883' '854'\n",
            " '952' '838' '194' 'V43' '163' '216' '147' '354' '27' '477' '318' '880'\n",
            " '921' '377' '471' '683' '175' '602' '250.91' '982' '706' '375' '417'\n",
            " '131' '347' '870' '148' '862' '61' '817' '914' '360' '684' '314' 'V63'\n",
            " '36' '57' '240' '915' '971' '795' '988' '452' '963' '327' '731' '842'\n",
            " 'V25' '645' '665' '110' '944' '603' '923' '412' '363' '957' '976' '698'\n",
            " '299' '700' '273' '974' '97' '529' '66' '98' '605' '941' '52' '806' '84'\n",
            " '271' '837' '657' '895' '338' '523' '542' '114' '543' '372' 'V70' 'E909'\n",
            " '583' 'V07' '422' '615' '279' '500' '903' '919' '875' '381' '804' '704'\n",
            " '23' '58' '649' '832' '133' '975' '833' '391' '690' '10' 'V51']\n",
            "diag_2:  [nan '250.01' '250' '250.43' '157' '411' '492' '427' '198' '403' '288'\n",
            " '998' '507' '174' '425' '456' '401' '715' '496' '428' '585' '250.02'\n",
            " '410' '999' '996' '135' '244' '41' '571' '276' '997' '599' '424' '491'\n",
            " '553' '707' '286' '440' '493' '242' '70' 'V45' '250.03' '357' '511' '196'\n",
            " '396' '197' '414' '250.52' '577' '535' '413' '285' '53' '780' '518' '150'\n",
            " '566' '250.6' '867' '486' 'V15' '8' '788' '340' '574' '581' '228' '530'\n",
            " '250.82' '786' '294' '567' '785' '512' '305' '729' '250.51' '280' '648'\n",
            " '560' '618' '444' '38' 'V10' '578' '277' '781' '250.42' '278' '426' '584'\n",
            " '462' '402' '153' '272' '733' '34' '881' '203' '250.41' '250.13' '293'\n",
            " '245' '250.12' '558' '787' '342' '573' '626' '303' '250.53' '458' '710'\n",
            " '415' 'V42' '284' '569' '759' '682' '112' '292' '435' '290' '250.93'\n",
            " '642' '536' '398' '319' '711' 'E878' '446' '255' 'V44' '250.7' '784'\n",
            " '300' '562' '162' '287' '447' '789' '790' '591' '200' '154' '304' '117'\n",
            " '847' '852' '250.83' '250.11' '816' '575' '416' '412' '441' '515' '372'\n",
            " '482' '382' 'V65' '572' '283' '78' '250.81' '576' '432' '595' '295' 'V12'\n",
            " '204' '466' '721' '434' '590' '271' '813' '368' '227' '783' '250.5' '258'\n",
            " '253' '309' '250.91' '519' '333' '459' '250.92' '250.4' '179' '420' '345'\n",
            " '433' '661' '537' '205' '722' '405' '437' '714' '211' 'E812' '263' '202'\n",
            " '397' '250.23' 'E932' '201' '301' '723' '614' '568' '861' 'V57' '724'\n",
            " '189' '297' '453' 'E888' '730' '354' '451' '738' 'E939' '805' 'V43' '155'\n",
            " '910' '218' '358' '220' 'E937' '583' '958' '794' '564' '436' '250.22'\n",
            " '620' '621' '331' '617' '596' '314' '378' '250.8' '625' '478' '731' '172'\n",
            " '404' '681' '470' '279' '281' '531' '443' '799' '337' '311' '719' 'E944'\n",
            " '423' 'E870' '465' 'E849' '782' '481' '480' 'V23' '199' '79' '438' '348'\n",
            " '42' 'E950' '473' '627' '726' '54' '490' '317' '332' '508' '369' '600'\n",
            " '349' '485' '208' '922' '431' '296' 'E934' '753' 'E935' '386' '728' '607'\n",
            " 'E915' '344' '716' '289' '191' '873' '850' '611' '377' '352' '616' 'V17'\n",
            " '136' '455' '933' 'E885' '860' '513' '603' '484' '223' 'V72' '291' '151'\n",
            " 'V58' '550' '510' '891' '185' '592' '791' '138' '598' '336' '362' '217'\n",
            " '825' '298' '821' 'E880' '343' '429' 'E879' '579' '225' '250.9' 'V49'\n",
            " '696' '233' '658' '969' '275' '250.1' '601' '704' '808' 'E890' 'V18'\n",
            " '920' '380' '570' 'E817' '359' '812' '274' 'V14' '324' '758' 'V66' '911'\n",
            " 'E931' 'E924' '593' '792' '727' 'V46' '394' '532' 'V64' '557' '864' '718'\n",
            " 'E942' '807' '604' '924' '820' '580' '273' '241' '282' '824' 'V61' '646'\n",
            " '701' '736' '565' '383' '250.2' 'E947' '452' '872' '905' 'E930' '921'\n",
            " '131' '448' '389' '421' '214' '705' '494' '752' '623' '9' '299' '959'\n",
            " '365' '967' 'E858' '40' '691' '909' '5' '814' '746' '250.31' '556' '680'\n",
            " '745' '351' '306' '110' '695' '552' '346' '918' '882' '947' '520' '188'\n",
            " '31' '356' '737' 'V08' '322' '182' '517' '974' 'E929' 'V53' '912' '252'\n",
            " '608' '516' 'E933' '94' '702' '923' '594' '647' '111' '934' '430' '487'\n",
            " '709' '796' '156' '977' '915' '756' '840' '341' '259' '693' '725' 'V62'\n",
            " '528' '683' '953' '457' '501' 'E900' 'V09' '522' '919' '461' '506' '193'\n",
            " '483' 'E936' '717' '802' '335' 'V54' '320' '945' '906' '239' '454' '826'\n",
            " '823' 'E941' '226' '795' '684' '844' '250.33' '308' '615' '588' '712'\n",
            " '663' '706' '833' '741' '713' '533' 'E884' '586' '555' '755' 'E928' '742'\n",
            " '869' '962' 'V11' '543' '373' '870' '913' '152' '810' '965' '907' '908'\n",
            " '995' '845' '474' '442' '751' '323' '472' '464' '686' '250.32' '540'\n",
            " '251' '811' '652' '659' '851' '422' '815' '307' '325' '463' '992' '692'\n",
            " '521' '917' 'E965' '524' '916' 'E813' '173' '238' '137' '514' '312' '837'\n",
            " '355' '980' '622' '475' '500' '754' '261' '801' '868' '968' '381' '11'\n",
            " '250.21' '694' '610' '734' 'E814' '310' '130' '246' '892' '846' '634'\n",
            " '75' 'E927' 'E905' '183' '379' 'E917' '163' 'E868' '495' '747' '989'\n",
            " 'E854' '240' '832' '605' '602' '644' 'V16' '35' 'V70' '376' '266' 'E918'\n",
            " '619' '477' '656' '46' '883' '171' 'V13' '698' '842' 'E850' '800' '269'\n",
            " '664' 'E887' '952' '164' 'E881' '527' '685' '366' '836' '27' 'V63' '865'\n",
            " '793' '232' '990' '52' '831' '327' '542' '806' '972' '862' 'E829' 'E919'\n",
            " '944' 'E916' '963' '316' '645' '347' 'V85' '374' 'V02' '748' '256' '186'\n",
            " '866' '975' '96' '395' '262' 'E819' '654' '994' '318' 'E826' '879' '674'\n",
            " '641' '822' '145' '797' '353' 'E938' 'E816' '948' '987' '99' '192'\n",
            " '250.3' 'E906' '534' '115' 'E818' 'E980' '360' '338' '529' '871' '750'\n",
            " '212' '302' '955' '141' '88' 'V25' '215' '350' 'V50' 'V03' 'E853' 'E968'\n",
            " 'E882' '140' '703' '991' '893' 'E821' '235' 'V69' '670' '195' 'V55' '388'\n",
            " '268' '894' '114' '260' '853' '7' '880' 'V86' '180' 'E945' '523' '863'\n",
            " '649' '270' '665' '460' '942' '364' '66' 'E883' '123' '884' 'V60' '843'\n",
            " '927']\n",
            "diag_3:  [nan '255' 'V27' '403' '250' 'V45' '38' '486' '996' '197' '250.6' '427'\n",
            " '627' '414' '416' '714' '428' '582' 'V43' '250.01' '263' '250.42' '276'\n",
            " '482' '401' '250.41' '585' '781' '278' '998' '568' '682' '618' '250.02'\n",
            " '305' '707' '496' '599' '715' '424' '518' '553' '794' '411' 'V42' '531'\n",
            " '511' '490' '562' '250.8' '250.7' '250.52' '784' '491' '581' '420' '8'\n",
            " '724' '730' '789' '131' '250.82' '999' '41' '493' '250.03' '753' '786'\n",
            " '529' 'E888' '425' '595' '303' '560' '711' '492' '332' '296' '438' '362'\n",
            " '250.4' '654' '244' 'V70' '737' '625' '681' '250.51' '404' 'V10' '810'\n",
            " '280' '440' '785' '588' '569' '272' '997' '250.43' '918' '584' '54' '788'\n",
            " '426' '722' '250.92' '196' '461' '535' '787' '891' '284' '458' '648'\n",
            " '780' '182' '285' '593' '413' '664' '564' '201' '356' 'V15' '292' '782'\n",
            " '473' '455' 'E932' '357' '348' '294' '250.23' '459' 'E878' '437' '733'\n",
            " '507' '525' '250.53' '397' '572' '805' '453' '331' '736' '402' '591'\n",
            " '576' '465' '533' '703' '349' '315' '658' '608' '578' '716' '382' '300'\n",
            " '282' '571' '536' '596' '287' '644' 'V11' '558' 'E885' '162' '198' '218'\n",
            " '412' '396' 'V14' '570' '433' 'E934' '882' '288' '577' '443' '729' '836'\n",
            " '295' '799' '281' '304' '153' '410' '616' '250.83' '601' '291' '75' '512'\n",
            " '660' '250.5' '598' '337' '574' '653' 'V58' '311' '415' '386' '602' '790'\n",
            " '112' '873' '620' '436' '70' '155' '138' '663' '530' '710' '42' '342'\n",
            " '250.91' 'E884' '515' '307' '704' '728' '731' '583' '238' '441' '293'\n",
            " '573' '532' '290' '594' '319' '250.13' '250.12' '519' '346' '380' '135'\n",
            " '642' '698' '924' '905' 'E933' '555' '309' 'E879' '286' '565' '752' '580'\n",
            " '446' '444' '344' '252' '35' '813' '394' '301' '575' '258' 'V17' '802'\n",
            " '435' '746' 'V12' '709' '881' 'E935' '139' '250.81' '718' '365' '202'\n",
            " '334' '185' '398' 'V44' '517' 'E849' '614' '466' '626' '250.9' '368'\n",
            " '605' '883' '289' '478' '617' '429' '442' 'V25' '866' '610' '557' '959'\n",
            " 'E942' '94' '920' '345' '313' '379' '79' '516' '586' '821' '600' '242'\n",
            " '373' '592' 'V64' '487' '253' '706' 'E947' '117' '340' 'E950' '656'\n",
            " 'E949' '590' 'V09' '250.22' '934' '694' '203' '250.93' '995' '726' '923'\n",
            " '958' '275' 'E929' '211' 'V18' 'V66' '199' '665' '53' '279' '522' '791'\n",
            " '890' '456' 'E938' 'E816' '122' '721' 'V65' '136' '480' '423' 'E920'\n",
            " '793' '647' '537' '351' '845' '336' '274' '719' '945' '434' '494' '227'\n",
            " '157' '208' '174' 'V57' '812' '734' '150' 'V23' '447' '692' '228' 'V16'\n",
            " '756' '405' 'E928' '823' '552' '528' '389' '240' '454' '792' '366' 'E939'\n",
            " '907' '270' '310' '266' '387' 'E931' '783' '245' '607' '355' 'E930' '705'\n",
            " '372' '369' '611' '283' 'V46' '110' '867' 'E956' '251' '250.2' '820'\n",
            " '712' '695' '567' '343' '723' 'V08' '273' '623' '807' '451' '495' '701'\n",
            " '34' 'V53' '314' '472' 'E945' '11' '189' '534' '354' '333' 'V54' '277'\n",
            " '659' '708' '452' '655' '816' '670' '621' '246' '953' '865' 'E817' '646'\n",
            " '151' '378' '78' '298' '840' '641' '521' '745' '619' '912' '506' 'E904'\n",
            " '259' 'E870' 'E980' '383' '204' '696' '566' '727' '47' 'E943' '358' '191'\n",
            " '965' '921' '432' '27' 'E861' '758' '477' '524' '751' '652' '556' '188'\n",
            " '825' '919' '732' '908' '951' '962' '685' 'E850' 'E944' '527' '341' '693'\n",
            " '250.1' 'V49' '860' '323' 'V55' '579' '508' '969' '205' '462' 'E880'\n",
            " '680' '697' '826' '200' '457' '717' '738' '742' '735' '235' '308' '725'\n",
            " '241' '824' '464' '260' '917' '239' '661' '892' '261' 'E883' '943' '744'\n",
            " 'E936' '796' '318' '967' '350' '854' 'E905' '9' '741' 'E941' '170' '643'\n",
            " '317' '759' '909' 'V22' '831' '713' '180' '801' '360' '359' '501' '335'\n",
            " '250.11' '306' '811' '690' 'V02' '271' '214' '847' '543' 'V63' '906'\n",
            " '842' '686' '445' '808' '861' 'E852' '220' 'E887' 'E858' '915' '970'\n",
            " '256' '747' '395' '243' '815' '481' '5' 'E927' '297' '299' '851' '864'\n",
            " '922' '384' 'E876' '225' '158' 'E937' '871' '88' '966' 'E917' 'E812'\n",
            " 'V62' 'E924' '604' '233' 'E916' '377' '797' 'V72' '172' '7' '421' '852'\n",
            " 'E819' '972' '916' '956' '3' 'E965' '173' '193' '154' '347' '862' '250.3'\n",
            " '987' '470' '262' 'E855' '161' '115' '179' '910' '312' '17' '460' '265'\n",
            " '66' '163' 'V60' '870' 'E906' '514' '944' '844' '417' '152' '183' '991'\n",
            " '216' '385' '164' '935' '510' '814' '485' '850' '250.21' 'E919' '872'\n",
            " '195' '431' '597' '933' '171' '884' '156' '868' '483' 'E815' '542' 'V61'\n",
            " '853' '374' 'E881' 'E882' 'E822' '192' '754' '327' '523' '500' 'V85'\n",
            " '992' '657' '684' '603' 'E826' '550' '913' '376' '755' '361' '186' '720'\n",
            " '250.31' '674' '911' 'E813' '226' '365.44' 'E818' '146' '955' 'E894'\n",
            " '475' 'V13' '880' '930' 'E915' '381' '132' '353' '795' '893' 'V01' 'E853'\n",
            " '863' '540' 'E828' '430' '800' 'E865' '148' 'E946' '822' '879' '848'\n",
            " 'V86' 'V03' '338' '989' '388' 'E966' '111' 'E922' '123' '757' 'E901'\n",
            " '141' '268' 'E892' '649' '702' '948' '223' '484' 'E886' '838' '928' '236'\n",
            " '624' '837' 'E987' 'V07' '841' '622' 'E912' 'E955' '463' 'V06' 'E864'\n",
            " '217' '877' '391' 'E825' '952' '669' '875' 'E900' '215' '538' '980' '834'\n",
            " '448' '175' '49' '876' '230' '57' 'E854' '942' '14' '750' '370' '671'\n",
            " '971']\n",
            "number_diagnoses:  [ 1  9  6  7  5  8  3  4  2 16 12 13 15 10 11 14]\n",
            "max_glu_serum:  ['None' '>300' 'Norm' '>200']\n",
            "A1Cresult:  ['None' '>7' '>8' 'Norm']\n",
            "metformin:  ['No' 'Steady' 'Up' 'Down']\n",
            "repaglinide:  ['No' 'Up' 'Steady' 'Down']\n",
            "nateglinide:  ['No' 'Steady' 'Down' 'Up']\n",
            "chlorpropamide:  ['No' 'Steady' 'Down' 'Up']\n",
            "glimepiride:  ['No' 'Steady' 'Down' 'Up']\n",
            "acetohexamide:  ['No' 'Steady']\n",
            "glipizide:  ['No' 'Steady' 'Up' 'Down']\n",
            "glyburide:  ['No' 'Steady' 'Up' 'Down']\n",
            "tolbutamide:  ['No' 'Steady']\n",
            "pioglitazone:  ['No' 'Steady' 'Up' 'Down']\n",
            "rosiglitazone:  ['No' 'Steady' 'Up' 'Down']\n",
            "acarbose:  ['No' 'Steady' 'Up' 'Down']\n",
            "miglitol:  ['No' 'Steady' 'Down' 'Up']\n",
            "troglitazone:  ['No' 'Steady']\n",
            "tolazamide:  ['No' 'Steady' 'Up']\n",
            "examide:  ['No']\n",
            "citoglipton:  ['No']\n",
            "insulin:  ['No' 'Up' 'Steady' 'Down']\n",
            "glyburide-metformin:  ['No' 'Steady' 'Down' 'Up']\n",
            "glipizide-metformin:  ['No' 'Steady']\n",
            "glimepiride-pioglitazone:  ['No' 'Steady']\n",
            "metformin-rosiglitazone:  ['No' 'Steady']\n",
            "metformin-pioglitazone:  ['No' 'Steady']\n",
            "change:  ['No' 'Ch']\n",
            "diabetesMed:  ['No' 'Yes']\n",
            "readmitted:  ['NO' '>30' '<30']\n"
          ],
          "name": "stdout"
        }
      ]
    },
    {
      "cell_type": "code",
      "metadata": {
        "id": "QoC5hlOmcNKd"
      },
      "source": [
        "#We can remove the following columns since we don't have further explantion, in addtion to the ID columns as those will not affect our prediction.\n",
        "\n",
        "df.drop(['encounter_id','admission_type_id','discharge_disposition_id',\n",
        "                    'metformin','repaglinide','nateglinide','chlorpropamide','glimepiride','admission_source_id',\n",
        "                     'acetohexamide','glipizide','glyburide','tolbutamide','pioglitazone','rosiglitazone','max_glu_serum','A1Cresult',\n",
        "                     'acarbose','miglitol','troglitazone','tolazamide','examide','citoglipton','glyburide-metformin','diag_1','diag_2','diag_3',\n",
        "                     'glipizide-metformin','glimepiride-pioglitazone','metformin-rosiglitazone','metformin-pioglitazone', 'patient_nbr'],axis=1,inplace=True) "
      ],
      "execution_count": null,
      "outputs": []
    },
    {
      "cell_type": "code",
      "metadata": {
        "colab": {
          "base_uri": "https://localhost:8080/",
          "height": 354
        },
        "id": "PgLBKE5tIiuu",
        "outputId": "9f9a6ecb-1846-4b65-e7e1-a380eb7520ab"
      },
      "source": [
        "#We will now further analyze some of the data\n",
        "\n",
        "sns.countplot(df['age'])\n",
        "\n",
        "#The plot shows that the dataset contains more info on older adults and seniors than other ages"
      ],
      "execution_count": null,
      "outputs": [
        {
          "output_type": "stream",
          "text": [
            "/usr/local/lib/python3.7/dist-packages/seaborn/_decorators.py:43: FutureWarning: Pass the following variable as a keyword arg: x. From version 0.12, the only valid positional argument will be `data`, and passing other arguments without an explicit keyword will result in an error or misinterpretation.\n",
            "  FutureWarning\n"
          ],
          "name": "stderr"
        },
        {
          "output_type": "execute_result",
          "data": {
            "text/plain": [
              "<matplotlib.axes._subplots.AxesSubplot at 0x7f42f4e78c10>"
            ]
          },
          "metadata": {
            "tags": []
          },
          "execution_count": 57
        },
        {
          "output_type": "display_data",
          "data": {
            "image/png": "[encoded data removed]",
            "text/plain": [
              "<Figure size 432x288 with 1 Axes>"
            ]
          },
          "metadata": {
            "tags": [],
            "needs_background": "light"
          }
        }
      ]
    },
    {
      "cell_type": "code",
      "metadata": {
        "colab": {
          "base_uri": "https://localhost:8080/",
          "height": 354
        },
        "id": "ocOze_7aJMQo",
        "outputId": "95254621-a3fd-4403-aaa4-099bf24e6f62"
      },
      "source": [
        "sns.countplot(df['race'])\n",
        "#We can see that most people in this dataset are caucasian, with low representaion of other groups"
      ],
      "execution_count": null,
      "outputs": [
        {
          "output_type": "stream",
          "text": [
            "/usr/local/lib/python3.7/dist-packages/seaborn/_decorators.py:43: FutureWarning: Pass the following variable as a keyword arg: x. From version 0.12, the only valid positional argument will be `data`, and passing other arguments without an explicit keyword will result in an error or misinterpretation.\n",
            "  FutureWarning\n"
          ],
          "name": "stderr"
        },
        {
          "output_type": "execute_result",
          "data": {
            "text/plain": [
              "<matplotlib.axes._subplots.AxesSubplot at 0x7f42f4d09690>"
            ]
          },
          "metadata": {
            "tags": []
          },
          "execution_count": 58
        },
        {
          "output_type": "display_data",
          "data": {
            "image/png": "[encoded data removed]",
            "text/plain": [
              "<Figure size 432x288 with 1 Axes>"
            ]
          },
          "metadata": {
            "tags": [],
            "needs_background": "light"
          }
        }
      ]
    },
    {
      "cell_type": "code",
      "metadata": {
        "id": "4rZVbpYzeySY"
      },
      "source": [
        "# So we can include non-white groups into \"minority\" category \n",
        "df[\"race\"].replace(['AfricanAmerican', 'Hispanic', 'Asian','Other'], 'Minority',inplace=True)"
      ],
      "execution_count": null,
      "outputs": []
    },
    {
      "cell_type": "code",
      "metadata": {
        "colab": {
          "base_uri": "https://localhost:8080/"
        },
        "id": "-MUmErn_gKj4",
        "outputId": "f9ae4946-cc6c-4ce4-f707-2ca7cafb2fab"
      },
      "source": [
        "df.columns #Remaining Columns\n",
        "# We will be using the following collumns as our feature value and 'readmitted' for our target "
      ],
      "execution_count": null,
      "outputs": [
        {
          "output_type": "execute_result",
          "data": {
            "text/plain": [
              "Index(['race', 'gender', 'age', 'time_in_hospital', 'num_lab_procedures',\n",
              "       'num_procedures', 'num_medications', 'number_outpatient',\n",
              "       'number_emergency', 'number_inpatient', 'number_diagnoses', 'insulin',\n",
              "       'change', 'diabetesMed', 'readmitted'],\n",
              "      dtype='object')"
            ]
          },
          "metadata": {
            "tags": []
          },
          "execution_count": 60
        }
      ]
    },
    {
      "cell_type": "markdown",
      "metadata": {
        "id": "dUtCTDOqCV8r"
      },
      "source": [
        "Columns to be used for feature :\n",
        "* num_lab\n",
        "* race                  \n",
        "* gender                          \n",
        "* age                             \n",
        "* insulin            \n",
        "* number_inpatient     \n",
        "* time_in_hospital                \n",
        "* num_medications                 \n",
        "* number_emergency                \n",
        "* number_diagnoses                \n",
        "* change                          \n",
        "* diabetesMed.\n",
        "* number_outpatient\n"
      ]
    },
    {
      "cell_type": "code",
      "metadata": {
        "id": "aCUDtRJbtKYP"
      },
      "source": [
        "df['gender'].unique()\n",
        "# We will include the \"unknown/Invalid\" in \"Male\" column since the data is miniscule\n",
        "df['gender'].replace('Unknown/Invalid','Male', inplace=True)"
      ],
      "execution_count": null,
      "outputs": []
    },
    {
      "cell_type": "markdown",
      "metadata": {
        "id": "RQ6FpMJWvBfR"
      },
      "source": [
        "##Preparing Data for model"
      ]
    },
    {
      "cell_type": "code",
      "metadata": {
        "id": "SmjXK8yswTp-"
      },
      "source": [
        "#We will categorize the non-numerical values for our dataset\n",
        "df.race.replace({'Caucasian':1,'Minority':0, np.nan:0},inplace=True)\n",
        "df.gender.replace({'Female': 1, 'Male': 0}, inplace=True)\n",
        "df.age.replace({ '[0-10)':5, '[10-20)':15, '[20-30)':25, '[30-40)':35, '[40-50)':45, '[50-60)':55, '[60-70)':65, '[70-80)':75, '[80-90)':85, '[90-100)':95}, inplace=True)\n",
        "df.insulin.replace({'No':0,'Up':1,'Steady':2,'Down':3},inplace=True) \n",
        "df.diabetesMed.replace({'No':0,'Yes':1},inplace=True)\n",
        "df.change.replace({'No':0,'Ch':1},inplace=True)\n",
        "\n",
        "#Target Variablw\n",
        "df.readmitted.replace({'NO': 0, '>30': 0, '<30': 1}, inplace=True) # Since we want to find wheather a patient will be readmitted\n",
        "# \"within 30 days\", we will include \"outside of 30 days\" with \"No\"\n",
        "\n"
      ],
      "execution_count": null,
      "outputs": []
    },
    {
      "cell_type": "code",
      "metadata": {
        "colab": {
          "base_uri": "https://localhost:8080/",
          "height": 381
        },
        "id": "qqaUeVUK-EmC",
        "outputId": "211be04d-f0ac-4b29-844f-78ff95275dcd"
      },
      "source": [
        "correlation_matrix = df.corr().round(2)\n",
        "sns.heatmap(data=correlation_matrix, annot = True ) # The correlation matrix gives us a better idea of the overall realtionship between different variables "
      ],
      "execution_count": null,
      "outputs": [
        {
          "output_type": "execute_result",
          "data": {
            "text/plain": [
              "<matplotlib.axes._subplots.AxesSubplot at 0x7f42f4c30990>"
            ]
          },
          "metadata": {
            "tags": []
          },
          "execution_count": 63
        },
        {
          "output_type": "display_data",
          "data": {
            "image/png": "[encoded data removed]",
            "text/plain": [
              "<Figure size 432x288 with 2 Axes>"
            ]
          },
          "metadata": {
            "tags": [],
            "needs_background": "light"
          }
        }
      ]
    },
    {
      "cell_type": "markdown",
      "metadata": {
        "id": "5pS0Ze4L2Mzc"
      },
      "source": [
        "#Data Scalling"
      ]
    },
    {
      "cell_type": "code",
      "metadata": {
        "id": "P_pkDv5Qjxaz"
      },
      "source": [
        "# We will normalize our dataset through scalling\n",
        "from sklearn.preprocessing import StandardScaler\n",
        "scaler = StandardScaler()\n",
        "\n",
        "\n",
        "scaler.fit(df.drop('readmitted', axis=1))\n",
        "StandardScaler(copy=True, with_mean=True, with_std=True)\n",
        "scaled_features = scaler.transform(df.drop('readmitted',axis=1))\n",
        "df_feat = pd.DataFrame(scaled_features,columns=df.columns[:-1])"
      ],
      "execution_count": null,
      "outputs": []
    },
    {
      "cell_type": "markdown",
      "metadata": {
        "id": "0dV6XNyF2Ws7"
      },
      "source": [
        "#Training - Predicting - Evaluating the Model using KNN"
      ]
    },
    {
      "cell_type": "markdown",
      "metadata": {
        "id": "iXA-ywSP2e-e"
      },
      "source": [
        "For this model we will be using the 14 features data set to predict our model for the target variable \"Readmitted within 30 days\""
      ]
    },
    {
      "cell_type": "code",
      "metadata": {
        "id": "3U6kYFNxvA0j"
      },
      "source": [
        "#Importing libraries and Preparing for training and testing the data-set\n",
        "from sklearn.model_selection import train_test_split\n",
        "X_train, X_test, y_train, y_test = train_test_split(scaled_features, df['readmitted'], test_size=0.2)"
      ],
      "execution_count": null,
      "outputs": []
    },
    {
      "cell_type": "code",
      "metadata": {
        "id": "9P32zXsBvP9y",
        "colab": {
          "base_uri": "https://localhost:8080/"
        },
        "outputId": "5dc9242e-6031-47e9-ca16-678430a8b0c3"
      },
      "source": [
        "from sklearn.neighbors import KNeighborsClassifier\n",
        "from sklearn import metrics\n",
        "from sklearn.metrics import classification_report, confusion_matrix\n",
        "\n",
        "\n",
        "knn = KNeighborsClassifier(n_neighbors=25) # Using k = 25\n",
        "knn.fit(X_train, y_train)\n",
        "y_pred = knn.predict(X_test) #Predicting the model by \n",
        "\n",
        "print(\"Accuracy:\",metrics.accuracy_score(y_test, y_pred))"
      ],
      "execution_count": null,
      "outputs": [
        {
          "output_type": "stream",
          "text": [
            "Accuracy: 0.890242704136779\n"
          ],
          "name": "stdout"
        }
      ]
    },
    {
      "cell_type": "code",
      "metadata": {
        "colab": {
          "base_uri": "https://localhost:8080/"
        },
        "id": "YDctRyDwqSOg",
        "outputId": "a867118a-0b52-4826-eb51-17a3c0add6df"
      },
      "source": [
        "print(confusion_matrix(y_test,y_pred)) #Our confusion Matrix "
      ],
      "execution_count": null,
      "outputs": [
        {
          "output_type": "stream",
          "text": [
            "[[18095    17]\n",
            " [ 2217    25]]\n"
          ],
          "name": "stdout"
        }
      ]
    },
    {
      "cell_type": "code",
      "metadata": {
        "colab": {
          "base_uri": "https://localhost:8080/",
          "height": 574
        },
        "id": "QxM2iaYZqiix",
        "outputId": "ccaaff18-744c-4b04-b482-dce57c32ff3c"
      },
      "source": [
        "plt.figure(figsize=(10,10)) #Visualizing confusion matrix\n",
        "sns.heatmap(confusion_matrix(y_test, y_pred), annot=True, fmt=\".2f\", linewidths=.5, square = True, cmap = 'Greens');\n",
        "plt.ylabel('Actual label');\n",
        "plt.xlabel('Predicted label');\n",
        "all_sample_title = 'Accuracy Score: {0}'.format(knn.score(X_test, y_test))\n",
        "plt.title(all_sample_title, size = 15);"
      ],
      "execution_count": null,
      "outputs": [
        {
          "output_type": "display_data",
          "data": {
            "image/png": "[encoded data removed]",
            "text/plain": [
              "<Figure size 720x720 with 2 Axes>"
            ]
          },
          "metadata": {
            "tags": [],
            "needs_background": "light"
          }
        }
      ]
    },
    {
      "cell_type": "code",
      "metadata": {
        "colab": {
          "base_uri": "https://localhost:8080/"
        },
        "id": "OWJ_c0K9r_K1",
        "outputId": "6b5a9ab1-09de-456e-e1bc-d8a45acb3d46"
      },
      "source": [
        "print(classification_report(y_test,y_pred))"
      ],
      "execution_count": null,
      "outputs": [
        {
          "output_type": "stream",
          "text": [
            "              precision    recall  f1-score   support\n",
            "\n",
            "           0       0.89      1.00      0.94     18112\n",
            "           1       0.60      0.01      0.02      2242\n",
            "\n",
            "    accuracy                           0.89     20354\n",
            "   macro avg       0.74      0.51      0.48     20354\n",
            "weighted avg       0.86      0.89      0.84     20354\n",
            "\n"
          ],
          "name": "stdout"
        }
      ]
    },
    {
      "cell_type": "markdown",
      "metadata": {
        "id": "NrEngS7Z3-h1"
      },
      "source": [
        "#Training - Predicting - Evaluating the Model using Decision Tree"
      ]
    },
    {
      "cell_type": "code",
      "metadata": {
        "colab": {
          "base_uri": "https://localhost:8080/",
          "height": 575
        },
        "id": "gRODcTBo4ATI",
        "outputId": "f5e3a13f-8a28-45ea-ea8b-39a44a61dd2c"
      },
      "source": [
        "from sklearn import tree\n",
        "from sklearn.tree import DecisionTreeClassifier #\n",
        "\n",
        "X_train, X_test, y_train, y_test = train_test_split(scaled_features, df['readmitted'], test_size=0.3, random_state=1, stratify=df['readmitted'])\n",
        "#\n",
        "# Train the model using DecisionTree classifier\n",
        "#\n",
        "clf_tree = DecisionTreeClassifier(criterion='gini', max_depth=4, random_state=1)\n",
        "clf_tree.fit(X_train, y_train)\n",
        "#\n",
        "# Plot the decision tree\n",
        "#\n",
        "fig, ax = plt.subplots(figsize=(10, 10))\n",
        "tree.plot_tree(clf_tree, fontsize=10)\n",
        "plt.show()\n"
      ],
      "execution_count": null,
      "outputs": [
        {
          "output_type": "display_data",
          "data": {
            "image/png": "[encoded data removed]",
            "text/plain": [
              "<Figure size 720x720 with 1 Axes>"
            ]
          },
          "metadata": {
            "tags": [],
            "needs_background": "light"
          }
        }
      ]
    },
    {
      "cell_type": "code",
      "metadata": {
        "colab": {
          "base_uri": "https://localhost:8080/"
        },
        "id": "cCvqRMuaBvNt",
        "outputId": "54fa2302-ffaf-4d92-fb69-97595d6459b7"
      },
      "source": [
        "clf = DecisionTreeClassifier()\n",
        "clf.fit(X_train, y_train)\n",
        "y_pred = clf.predict(X_test)\n",
        "print(\"Accuracy:\",metrics.accuracy_score(y_test, y_pred))"
      ],
      "execution_count": null,
      "outputs": [
        {
          "output_type": "stream",
          "text": [
            "Accuracy: 0.7862757943006878\n"
          ],
          "name": "stdout"
        }
      ]
    },
    {
      "cell_type": "code",
      "metadata": {
        "colab": {
          "base_uri": "https://localhost:8080/"
        },
        "id": "owkAnRA1DBh9",
        "outputId": "67beb9cb-9412-4fd3-98be-fb4054187bdd"
      },
      "source": [
        "#testing how big of a factor just race, gender, and age play on \n",
        "y = df['readmitted']\n",
        "x = df[[\"race\", \"gender\",\"age\"]]\n",
        "x_train, x_test, y_train, y_test = train_test_split(x, y, test_size=0.2)\n",
        "knn = KNeighborsClassifier(n_neighbors=25)\n",
        "knn.fit(x_train, y_train)\n",
        "y_pred = knn.predict(x_test)\n",
        "print(\"Accuracy for KNN:\",metrics.accuracy_score(y_test, y_pred))\n",
        "\n",
        "x_train, x_test, y_train, y_test = train_test_split(x, y, test_size=0.2)\n",
        "clf = DecisionTreeClassifier()\n",
        "clf.fit(x_train, y_train)\n",
        "predict = clf.predict(x_test)\n",
        "print(\"Accuracy for Decision Tree:\",metrics.accuracy_score(y_test, predict))"
      ],
      "execution_count": null,
      "outputs": [
        {
          "output_type": "stream",
          "text": [
            "Accuracy for KNN: 0.8878353149258131\n",
            "Accuracy for Decision Tree: 0.8873440110052078\n"
          ],
          "name": "stdout"
        }
      ]
    },
    {
      "cell_type": "markdown",
      "metadata": {
        "id": "rSdzb2lghRF0"
      },
      "source": [
        "## Conclusion\n",
        "\n"
      ]
    },
    {
      "cell_type": "markdown",
      "metadata": {
        "id": "iigdyrTGpx6L"
      },
      "source": [
        "From the models we can see that after using our feature variables we found that the KNN model had a higher success rate than decision tree. In other words, it proved to be more efficient. However, if we only include \"race\", \"gender\" and \"age\" for our feature variables then the difference between the two models significantly diminshes. "
      ]
    }
  ]
}